{
 "cells": [
  {
   "cell_type": "markdown",
   "metadata": {},
   "source": [
    "### Dependencies\n",
    "- Helm v2.13.1+\n",
    "- A Kubernetes cluster running v1.13 or above (minkube / docker-for-windows work well if enough RAM)\n",
    "- kubectl v1.14+\n",
    "- ksonnet v0.13.1+\n",
    "- kfctl 0.5.1 - Please use this exact version as there are major changes every few months\n",
    "- Python 3.6+\n",
    "- Python DEV requirements (we’ll install them below)"
   ]
  },
  {
   "cell_type": "code",
   "execution_count": 2,
   "metadata": {},
   "outputs": [
    {
     "name": "stdout",
     "output_type": "stream",
     "text": [
      "python-dateutil\r\n",
      "https://storage.googleapis.com/ml-pipeline/release/0.1.20/kfp.tar.gz\r\n",
      "kubernetes\r\n",
      "click\r\n",
      "seldon_core\r\n",
      "numpy\r\n"
     ]
    }
   ],
   "source": [
    "!cat ./requirements-dev.txt"
   ]
  },
  {
   "cell_type": "code",
   "execution_count": 4,
   "metadata": {},
   "outputs": [
    {
     "name": "stdout",
     "output_type": "stream",
     "text": [
      "Collecting https://storage.googleapis.com/ml-pipeline/release/0.1.20/kfp.tar.gz (from -r ./requirements-dev.txt (line 2))\n",
      "\u001b[?25l  Downloading https://storage.googleapis.com/ml-pipeline/release/0.1.20/kfp.tar.gz (67kB)\n",
      "\u001b[K    100% |████████████████████████████████| 71kB 1.4MB/s ta 0:00:011\n",
      "\u001b[?25hRequirement already satisfied: python-dateutil in /usr/local/lib/python3.7/site-packages (from -r ./requirements-dev.txt (line 1)) (2.8.0)\n",
      "Collecting kubernetes (from -r ./requirements-dev.txt (line 3))\n",
      "\u001b[?25l  Downloading https://files.pythonhosted.org/packages/2a/09/365f4ad63f71c698c76edb3e666852b87a751ee4b6d23222b09952557d17/kubernetes-10.0.0-py2.py3-none-any.whl (1.5MB)\n",
      "\u001b[K    100% |████████████████████████████████| 1.5MB 5.5MB/s ta 0:00:011\n",
      "\u001b[?25hRequirement already satisfied: click in /usr/local/lib/python3.7/site-packages (from -r ./requirements-dev.txt (line 4)) (7.0)\n",
      "Collecting seldon_core (from -r ./requirements-dev.txt (line 5))\n",
      "  Downloading https://files.pythonhosted.org/packages/15/70/966df2d8999013bb5bd98e5ab70ded9e245b8db1ec4198cdc9ecf6f60699/seldon_core-0.3.1-py3-none-any.whl\n",
      "Requirement already satisfied: numpy in /usr/local/lib/python3.7/site-packages (from -r ./requirements-dev.txt (line 6)) (1.16.4)\n",
      "Collecting urllib3<1.25,>=1.15 (from kfp==0.1.20->-r ./requirements-dev.txt (line 2))\n",
      "  Using cached https://files.pythonhosted.org/packages/01/11/525b02e4acc0c747de8b6ccdab376331597c569c42ea66ab0a1dbd36eca2/urllib3-1.24.3-py2.py3-none-any.whl\n",
      "Requirement already satisfied: six>=1.10 in /usr/local/lib/python3.7/site-packages (from kfp==0.1.20->-r ./requirements-dev.txt (line 2)) (1.12.0)\n",
      "Requirement already satisfied: certifi in /usr/local/lib/python3.7/site-packages (from kfp==0.1.20->-r ./requirements-dev.txt (line 2)) (2019.6.16)\n",
      "Requirement already satisfied: PyYAML in /usr/local/lib/python3.7/site-packages (from kfp==0.1.20->-r ./requirements-dev.txt (line 2)) (5.1.1)\n",
      "Collecting google-cloud-storage>=1.13.0 (from kfp==0.1.20->-r ./requirements-dev.txt (line 2))\n",
      "\u001b[?25l  Downloading https://files.pythonhosted.org/packages/77/e5/52cb018cac2fdb8942cbc70a3025a8fc6650863d0aee7f055af09248d783/google_cloud_storage-1.17.0-py2.py3-none-any.whl (66kB)\n",
      "\u001b[K    100% |████████████████████████████████| 71kB 8.6MB/s ta 0:00:011\n",
      "\u001b[?25hCollecting PyJWT>=1.6.4 (from kfp==0.1.20->-r ./requirements-dev.txt (line 2))\n",
      "  Using cached https://files.pythonhosted.org/packages/87/8b/6a9f14b5f781697e51259d81657e6048fd31a113229cf346880bb7545565/PyJWT-1.7.1-py2.py3-none-any.whl\n",
      "Collecting cryptography>=2.4.2 (from kfp==0.1.20->-r ./requirements-dev.txt (line 2))\n",
      "  Using cached https://files.pythonhosted.org/packages/63/4e/57b7a6bd98906872fcd2531e74b532de2abe17d675a5cf171931fcb4a9e8/cryptography-2.7-cp34-abi3-macosx_10_6_intel.whl\n",
      "Collecting google-auth>=1.6.1 (from kfp==0.1.20->-r ./requirements-dev.txt (line 2))\n",
      "  Using cached https://files.pythonhosted.org/packages/c5/9b/ed0516cc1f7609fb0217e3057ff4f0f9f3e3ce79a369c6af4a6c5ca25664/google_auth-1.6.3-py2.py3-none-any.whl\n",
      "Collecting requests_toolbelt>=0.8.0 (from kfp==0.1.20->-r ./requirements-dev.txt (line 2))\n",
      "\u001b[?25l  Downloading https://files.pythonhosted.org/packages/60/ef/7681134338fc097acef8d9b2f8abe0458e4d87559c689a8c306d0957ece5/requests_toolbelt-0.9.1-py2.py3-none-any.whl (54kB)\n",
      "\u001b[K    100% |████████████████████████████████| 61kB 10.7MB/s ta 0:00:01\n",
      "\u001b[?25hCollecting kfp-server-api<0.1.19,>=0.1.18 (from kfp==0.1.20->-r ./requirements-dev.txt (line 2))\n",
      "  Downloading https://files.pythonhosted.org/packages/3e/24/a82ae81487bf61fb262e67167cee1843f2f70d940713c092b124c9aaa0dc/kfp-server-api-0.1.18.3.tar.gz\n",
      "Collecting requests-oauthlib (from kubernetes->-r ./requirements-dev.txt (line 3))\n",
      "  Using cached https://files.pythonhosted.org/packages/c2/e2/9fd03d55ffb70fe51f587f20bcf407a6927eb121de86928b34d162f0b1ac/requests_oauthlib-1.2.0-py2.py3-none-any.whl\n",
      "Requirement already satisfied: requests in /usr/local/lib/python3.7/site-packages (from kubernetes->-r ./requirements-dev.txt (line 3)) (2.22.0)\n",
      "Requirement already satisfied: setuptools>=21.0.0 in /usr/local/lib/python3.7/site-packages (from kubernetes->-r ./requirements-dev.txt (line 3)) (40.8.0)\n",
      "Requirement already satisfied: websocket-client!=0.40.0,!=0.41.*,!=0.42.*,>=0.32.0 in /usr/local/lib/python3.7/site-packages (from kubernetes->-r ./requirements-dev.txt (line 3)) (0.56.0)\n",
      "Collecting flatbuffers (from seldon_core->-r ./requirements-dev.txt (line 5))\n",
      "  Using cached https://files.pythonhosted.org/packages/c9/84/adf5837f96c39990bc55afdfddf460b38b4562f50341359afa32e4a98de7/flatbuffers-1.11-py2.py3-none-any.whl\n",
      "Collecting Flask-OpenTracing==0.2.0 (from seldon_core->-r ./requirements-dev.txt (line 5))\n",
      "  Using cached https://files.pythonhosted.org/packages/1d/c4/0546b854a3f42af9ef959df9bd1108903698e175e7a07c057cdfaeeef718/Flask_OpenTracing-0.2.0-py2.py3-none-any.whl\n",
      "Collecting grpcio-opentracing (from seldon_core->-r ./requirements-dev.txt (line 5))\n",
      "  Using cached https://files.pythonhosted.org/packages/db/82/2fcad380697c3dab25de76ee590bcab3eb9bbfb4add916044d7e83ec2b10/grpcio_opentracing-1.1.4-py3-none-any.whl\n",
      "Requirement already satisfied: flask in /usr/local/lib/python3.7/site-packages (from seldon_core->-r ./requirements-dev.txt (line 5)) (1.0.4)\n",
      "Collecting tensorflow (from seldon_core->-r ./requirements-dev.txt (line 5))\n",
      "\u001b[?25l  Downloading https://files.pythonhosted.org/packages/ed/11/037887c5cbac5af3124050fb6348e67caa038734cc9673b11c31c8939072/tensorflow-1.14.0-cp37-cp37m-macosx_10_11_x86_64.whl (105.8MB)\n",
      "\u001b[K    100% |████████████████████████████████| 105.8MB 423kB/s ta 0:00:011\n",
      "\u001b[?25hCollecting grpcio (from seldon_core->-r ./requirements-dev.txt (line 5))\n",
      "\u001b[?25l  Downloading https://files.pythonhosted.org/packages/24/39/b9b64be086bb437c83d56b5a400b50360ccf683c476ad702836a39a4eefd/grpcio-1.22.0-cp37-cp37m-macosx_10_9_x86_64.whl (2.0MB)\n",
      "\u001b[K    100% |████████████████████████████████| 2.0MB 5.8MB/s ta 0:00:011\n",
      "\u001b[?25hCollecting jaeger-client==3.13.0 (from seldon_core->-r ./requirements-dev.txt (line 5))\n",
      "\u001b[?25l  Downloading https://files.pythonhosted.org/packages/c8/a2/e9bd04cd660cbdffe0598173be068be23099fbd68e7a4a89b74440509130/jaeger-client-3.13.0.tar.gz (77kB)\n",
      "\u001b[K    100% |████████████████████████████████| 81kB 4.8MB/s ta 0:00:011\n",
      "\u001b[?25hCollecting redis (from seldon_core->-r ./requirements-dev.txt (line 5))\n",
      "\u001b[?25l  Downloading https://files.pythonhosted.org/packages/ac/a7/cff10cc5f1180834a3ed564d148fb4329c989cbb1f2e196fc9a10fa07072/redis-3.2.1-py2.py3-none-any.whl (65kB)\n",
      "\u001b[K    100% |████████████████████████████████| 71kB 10.3MB/s ta 0:00:01\n",
      "\u001b[?25hRequirement already satisfied: protobuf in /usr/local/lib/python3.7/site-packages (from seldon_core->-r ./requirements-dev.txt (line 5)) (3.9.0)\n",
      "Collecting opentracing<2,>=1.2.2 (from seldon_core->-r ./requirements-dev.txt (line 5))\n",
      "  Using cached https://files.pythonhosted.org/packages/06/c2/90b35a1abdc639a5c6000d8202c70217d60e80f5b328870efb73fda71115/opentracing-1.3.0.tar.gz\n",
      "Collecting flask-cors (from seldon_core->-r ./requirements-dev.txt (line 5))\n",
      "  Downloading https://files.pythonhosted.org/packages/78/38/e68b11daa5d613e3a91e4bf3da76c94ac9ee0d9cd515af9c1ab80d36f709/Flask_Cors-3.0.8-py2.py3-none-any.whl\n",
      "Collecting google-cloud-core<2.0dev,>=1.0.0 (from google-cloud-storage>=1.13.0->kfp==0.1.20->-r ./requirements-dev.txt (line 2))\n",
      "  Downloading https://files.pythonhosted.org/packages/98/7f/ff56aec313787577e262d5a2e306c04aef61c5c274699ff9fb40095e6691/google_cloud_core-1.0.2-py2.py3-none-any.whl\n",
      "Collecting google-resumable-media>=0.3.1 (from google-cloud-storage>=1.13.0->kfp==0.1.20->-r ./requirements-dev.txt (line 2))\n",
      "  Using cached https://files.pythonhosted.org/packages/e2/5d/4bc5c28c252a62efe69ed1a1561da92bd5af8eca0cdcdf8e60354fae9b29/google_resumable_media-0.3.2-py2.py3-none-any.whl\n",
      "Collecting cffi!=1.11.3,>=1.8 (from cryptography>=2.4.2->kfp==0.1.20->-r ./requirements-dev.txt (line 2))\n",
      "  Using cached https://files.pythonhosted.org/packages/f0/48/5aa4ea664eba26dd5142558d04762f5065c02220b4665b3f7eecb9bb614e/cffi-1.12.3-cp37-cp37m-macosx_10_9_x86_64.whl\n",
      "Collecting asn1crypto>=0.21.0 (from cryptography>=2.4.2->kfp==0.1.20->-r ./requirements-dev.txt (line 2))\n",
      "  Using cached https://files.pythonhosted.org/packages/ea/cd/35485615f45f30a510576f1a56d1e0a7ad7bd8ab5ed7cdc600ef7cd06222/asn1crypto-0.24.0-py2.py3-none-any.whl\n"
     ]
    },
    {
     "name": "stdout",
     "output_type": "stream",
     "text": [
      "Collecting cachetools>=2.0.0 (from google-auth>=1.6.1->kfp==0.1.20->-r ./requirements-dev.txt (line 2))\n",
      "  Using cached https://files.pythonhosted.org/packages/2f/a6/30b0a0bef12283e83e58c1d6e7b5aabc7acfc4110df81a4471655d33e704/cachetools-3.1.1-py2.py3-none-any.whl\n",
      "Collecting pyasn1-modules>=0.2.1 (from google-auth>=1.6.1->kfp==0.1.20->-r ./requirements-dev.txt (line 2))\n",
      "  Using cached https://files.pythonhosted.org/packages/91/f0/b03e00ce9fddf4827c42df1c3ce10c74eadebfb706231e8d6d1c356a4062/pyasn1_modules-0.2.5-py2.py3-none-any.whl\n",
      "Collecting rsa>=3.1.4 (from google-auth>=1.6.1->kfp==0.1.20->-r ./requirements-dev.txt (line 2))\n",
      "  Using cached https://files.pythonhosted.org/packages/02/e5/38518af393f7c214357079ce67a317307936896e961e35450b70fad2a9cf/rsa-4.0-py2.py3-none-any.whl\n",
      "Collecting oauthlib>=3.0.0 (from requests-oauthlib->kubernetes->-r ./requirements-dev.txt (line 3))\n",
      "\u001b[?25l  Downloading https://files.pythonhosted.org/packages/58/5e/289e98ff5ad1a321945803000c5f10f5f90eba346d13139ecdd075cfbe17/oauthlib-3.0.2-py2.py3-none-any.whl (143kB)\n",
      "\u001b[K    100% |████████████████████████████████| 153kB 7.0MB/s ta 0:00:01\n",
      "\u001b[?25hRequirement already satisfied: idna<2.9,>=2.5 in /usr/local/lib/python3.7/site-packages (from requests->kubernetes->-r ./requirements-dev.txt (line 3)) (2.8)\n",
      "Requirement already satisfied: chardet<3.1.0,>=3.0.2 in /usr/local/lib/python3.7/site-packages (from requests->kubernetes->-r ./requirements-dev.txt (line 3)) (3.0.4)\n",
      "Requirement already satisfied: Jinja2>=2.10 in /usr/local/lib/python3.7/site-packages (from flask->seldon_core->-r ./requirements-dev.txt (line 5)) (2.10)\n",
      "Requirement already satisfied: Werkzeug>=0.14 in /usr/local/lib/python3.7/site-packages (from flask->seldon_core->-r ./requirements-dev.txt (line 5)) (0.14.1)\n",
      "Requirement already satisfied: itsdangerous>=0.24 in /usr/local/lib/python3.7/site-packages (from flask->seldon_core->-r ./requirements-dev.txt (line 5)) (1.1.0)\n",
      "Collecting absl-py>=0.7.0 (from tensorflow->seldon_core->-r ./requirements-dev.txt (line 5))\n",
      "\u001b[?25l  Downloading https://files.pythonhosted.org/packages/da/3f/9b0355080b81b15ba6a9ffcf1f5ea39e307a2778b2f2dc8694724e8abd5b/absl-py-0.7.1.tar.gz (99kB)\n",
      "\u001b[K    100% |████████████████████████████████| 102kB 8.9MB/s a 0:00:011\n",
      "\u001b[?25hCollecting keras-applications>=1.0.6 (from tensorflow->seldon_core->-r ./requirements-dev.txt (line 5))\n",
      "\u001b[?25l  Downloading https://files.pythonhosted.org/packages/71/e3/19762fdfc62877ae9102edf6342d71b28fbfd9dea3d2f96a882ce099b03f/Keras_Applications-1.0.8-py3-none-any.whl (50kB)\n",
      "\u001b[K    100% |████████████████████████████████| 51kB 11.9MB/s ta 0:00:01\n",
      "\u001b[?25hCollecting termcolor>=1.1.0 (from tensorflow->seldon_core->-r ./requirements-dev.txt (line 5))\n",
      "  Using cached https://files.pythonhosted.org/packages/8a/48/a76be51647d0eb9f10e2a4511bf3ffb8cc1e6b14e9e4fab46173aa79f981/termcolor-1.1.0.tar.gz\n",
      "Collecting wrapt>=1.11.1 (from tensorflow->seldon_core->-r ./requirements-dev.txt (line 5))\n",
      "  Downloading https://files.pythonhosted.org/packages/23/84/323c2415280bc4fc880ac5050dddfb3c8062c2552b34c2e512eb4aa68f79/wrapt-1.11.2.tar.gz\n",
      "Collecting tensorboard<1.15.0,>=1.14.0 (from tensorflow->seldon_core->-r ./requirements-dev.txt (line 5))\n",
      "\u001b[?25l  Downloading https://files.pythonhosted.org/packages/91/2d/2ed263449a078cd9c8a9ba50ebd50123adf1f8cfbea1492f9084169b89d9/tensorboard-1.14.0-py3-none-any.whl (3.1MB)\n",
      "\u001b[K    100% |████████████████████████████████| 3.2MB 5.2MB/s ta 0:00:011\n",
      "\u001b[?25hCollecting keras-preprocessing>=1.0.5 (from tensorflow->seldon_core->-r ./requirements-dev.txt (line 5))\n",
      "\u001b[?25l  Downloading https://files.pythonhosted.org/packages/28/6a/8c1f62c37212d9fc441a7e26736df51ce6f0e38455816445471f10da4f0a/Keras_Preprocessing-1.1.0-py2.py3-none-any.whl (41kB)\n",
      "\u001b[K    100% |████████████████████████████████| 51kB 14.5MB/s ta 0:00:01\n",
      "\u001b[?25hRequirement already satisfied: wheel>=0.26 in /usr/local/lib/python3.7/site-packages (from tensorflow->seldon_core->-r ./requirements-dev.txt (line 5)) (0.33.1)\n",
      "Collecting google-pasta>=0.1.6 (from tensorflow->seldon_core->-r ./requirements-dev.txt (line 5))\n",
      "\u001b[?25l  Downloading https://files.pythonhosted.org/packages/d0/33/376510eb8d6246f3c30545f416b2263eee461e40940c2a4413c711bdf62d/google_pasta-0.1.7-py3-none-any.whl (52kB)\n",
      "\u001b[K    100% |████████████████████████████████| 61kB 7.8MB/s ta 0:00:011\n",
      "\u001b[?25hCollecting gast>=0.2.0 (from tensorflow->seldon_core->-r ./requirements-dev.txt (line 5))\n",
      "  Downloading https://files.pythonhosted.org/packages/4e/35/11749bf99b2d4e3cceb4d55ca22590b0d7c2c62b9de38ac4a4a7f4687421/gast-0.2.2.tar.gz\n",
      "Collecting tensorflow-estimator<1.15.0rc0,>=1.14.0rc0 (from tensorflow->seldon_core->-r ./requirements-dev.txt (line 5))\n",
      "\u001b[?25l  Downloading https://files.pythonhosted.org/packages/3c/d5/21860a5b11caf0678fbc8319341b0ae21a07156911132e0e71bffed0510d/tensorflow_estimator-1.14.0-py2.py3-none-any.whl (488kB)\n",
      "\u001b[K    100% |████████████████████████████████| 491kB 5.1MB/s ta 0:00:01\n",
      "\u001b[?25hCollecting astor>=0.6.0 (from tensorflow->seldon_core->-r ./requirements-dev.txt (line 5))\n",
      "  Downloading https://files.pythonhosted.org/packages/d1/4f/950dfae467b384fc96bc6469de25d832534f6b4441033c39f914efd13418/astor-0.8.0-py2.py3-none-any.whl\n",
      "Collecting threadloop<2,>=1 (from jaeger-client==3.13.0->seldon_core->-r ./requirements-dev.txt (line 5))\n",
      "  Using cached https://files.pythonhosted.org/packages/d3/1d/8398c1645b97dc008d3c658e04beda01ede3d90943d40c8d56863cf891bd/threadloop-1.0.2.tar.gz\n",
      "Requirement already satisfied: thrift in /usr/local/lib/python3.7/site-packages (from jaeger-client==3.13.0->seldon_core->-r ./requirements-dev.txt (line 5)) (0.11.0)\n",
      "Collecting tornado<5,>=4.3 (from jaeger-client==3.13.0->seldon_core->-r ./requirements-dev.txt (line 5))\n",
      "  Using cached https://files.pythonhosted.org/packages/e3/7b/e29ab3d51c8df66922fea216e2bddfcb6430fb29620e5165b16a216e0d3c/tornado-4.5.3.tar.gz\n",
      "Collecting google-api-core<2.0.0dev,>=1.11.0 (from google-cloud-core<2.0dev,>=1.0.0->google-cloud-storage>=1.13.0->kfp==0.1.20->-r ./requirements-dev.txt (line 2))\n",
      "\u001b[?25l  Downloading https://files.pythonhosted.org/packages/5b/3e/48b8ee54f24fd8d5d274bcf642857399f074310032a244353419fc5774b7/google_api_core-1.14.0-py2.py3-none-any.whl (68kB)\n",
      "\u001b[K    100% |████████████████████████████████| 71kB 6.2MB/s ta 0:00:01\n",
      "\u001b[?25hCollecting pycparser (from cffi!=1.11.3,>=1.8->cryptography>=2.4.2->kfp==0.1.20->-r ./requirements-dev.txt (line 2))\n",
      "Collecting pyasn1<0.5.0,>=0.4.1 (from pyasn1-modules>=0.2.1->google-auth>=1.6.1->kfp==0.1.20->-r ./requirements-dev.txt (line 2))\n",
      "  Using cached https://files.pythonhosted.org/packages/7b/7c/c9386b82a25115cccf1903441bba3cbadcfae7b678a20167347fa8ded34c/pyasn1-0.4.5-py2.py3-none-any.whl\n",
      "Requirement already satisfied: MarkupSafe>=0.23 in /usr/local/lib/python3.7/site-packages (from Jinja2>=2.10->flask->seldon_core->-r ./requirements-dev.txt (line 5)) (1.1.1)\n",
      "Collecting h5py (from keras-applications>=1.0.6->tensorflow->seldon_core->-r ./requirements-dev.txt (line 5))\n",
      "\u001b[?25l  Downloading https://files.pythonhosted.org/packages/80/c5/eec74d7324628f1b640c6e706981c4ed51afcaa1656ece26cb08d862598e/h5py-2.9.0-cp37-cp37m-macosx_10_6_intel.macosx_10_9_intel.macosx_10_9_x86_64.macosx_10_10_intel.macosx_10_10_x86_64.whl (6.2MB)\n",
      "\u001b[K    100% |████████████████████████████████| 6.2MB 3.4MB/s ta 0:00:011\n",
      "\u001b[?25hRequirement already satisfied: markdown>=2.6.8 in /usr/local/lib/python3.7/site-packages (from tensorboard<1.15.0,>=1.14.0->tensorflow->seldon_core->-r ./requirements-dev.txt (line 5)) (2.6.11)\n",
      "Requirement already satisfied: pytz in /usr/local/lib/python3.7/site-packages (from google-api-core<2.0.0dev,>=1.11.0->google-cloud-core<2.0dev,>=1.0.0->google-cloud-storage>=1.13.0->kfp==0.1.20->-r ./requirements-dev.txt (line 2)) (2019.1)\n",
      "Collecting googleapis-common-protos<2.0dev,>=1.6.0 (from google-api-core<2.0.0dev,>=1.11.0->google-cloud-core<2.0dev,>=1.0.0->google-cloud-storage>=1.13.0->kfp==0.1.20->-r ./requirements-dev.txt (line 2))\n",
      "  Downloading https://files.pythonhosted.org/packages/eb/ee/e59e74ecac678a14d6abefb9054f0bbcb318a6452a30df3776f133886d7d/googleapis-common-protos-1.6.0.tar.gz\n",
      "Building wheels for collected packages: kfp, kfp-server-api, jaeger-client, opentracing, absl-py, termcolor, wrapt, gast, threadloop, tornado, googleapis-common-protos\n"
     ]
    },
    {
     "name": "stdout",
     "output_type": "stream",
     "text": [
      "  Building wheel for kfp (setup.py) ... \u001b[?25ldone\n",
      "\u001b[?25h  Stored in directory: /private/var/folders/lt/bdwrv9j55kdbdd0cf30nsyc80000gn/T/pip-ephem-wheel-cache-81a7wctm/wheels/ae/bb/02/32b1356ee756181099d8f1b0950ac6567cb2b38e71b48f02e8\n",
      "  Building wheel for kfp-server-api (setup.py) ... \u001b[?25ldone\n",
      "\u001b[?25h  Stored in directory: /Users/liut13/Library/Caches/pip/wheels/07/13/f3/31e9e1a25e10b8c3d04df74a01f4dbcf16a4119272cd41ba7a\n",
      "  Building wheel for jaeger-client (setup.py) ... \u001b[?25ldone\n",
      "\u001b[?25h  Stored in directory: /Users/liut13/Library/Caches/pip/wheels/2b/9f/33/f5ae3ed41c467ee0a261747216a5cdd22359c2ff2a628d2c0f\n",
      "  Building wheel for opentracing (setup.py) ... \u001b[?25ldone\n",
      "\u001b[?25h  Stored in directory: /Users/liut13/Library/Caches/pip/wheels/5a/c7/a8/55354b8928b16dafbcd73fb8fc33d7d55cf61ed0845b912ec8\n",
      "  Building wheel for absl-py (setup.py) ... \u001b[?25ldone\n",
      "\u001b[?25h  Stored in directory: /Users/liut13/Library/Caches/pip/wheels/ee/98/38/46cbcc5a93cfea5492d19c38562691ddb23b940176c14f7b48\n",
      "  Building wheel for termcolor (setup.py) ... \u001b[?25ldone\n",
      "\u001b[?25h  Stored in directory: /Users/liut13/Library/Caches/pip/wheels/7c/06/54/bc84598ba1daf8f970247f550b175aaaee85f68b4b0c5ab2c6\n",
      "  Building wheel for wrapt (setup.py) ... \u001b[?25ldone\n",
      "\u001b[?25h  Stored in directory: /Users/liut13/Library/Caches/pip/wheels/d7/de/2e/efa132238792efb6459a96e85916ef8597fcb3d2ae51590dfd\n",
      "  Building wheel for gast (setup.py) ... \u001b[?25ldone\n",
      "\u001b[?25h  Stored in directory: /Users/liut13/Library/Caches/pip/wheels/5c/2e/7e/a1d4d4fcebe6c381f378ce7743a3ced3699feb89bcfbdadadd\n",
      "  Building wheel for threadloop (setup.py) ... \u001b[?25ldone\n",
      "\u001b[?25h  Stored in directory: /Users/liut13/Library/Caches/pip/wheels/d7/7a/30/d212623a4cd34f6cce400f8122b1b7af740d3440c68023d51f\n",
      "  Building wheel for tornado (setup.py) ... \u001b[?25ldone\n",
      "\u001b[?25h  Stored in directory: /Users/liut13/Library/Caches/pip/wheels/72/bf/f4/b68fa69596986881b397b18ff2b9af5f8181233aadcc9f76fd\n",
      "  Building wheel for googleapis-common-protos (setup.py) ... \u001b[?25ldone\n",
      "\u001b[?25h  Stored in directory: /Users/liut13/Library/Caches/pip/wheels/9e/3d/a2/1bec8bb7db80ab3216dbc33092bb7ccd0debfb8ba42b5668d5\n",
      "Successfully built kfp kfp-server-api jaeger-client opentracing absl-py termcolor wrapt gast threadloop tornado googleapis-common-protos\n",
      "\u001b[31mdistributed 2.1.0 has requirement tornado>=5, but you'll have tornado 4.5.3 which is incompatible.\u001b[0m\n",
      "\u001b[31mtensorboard 1.14.0 has requirement setuptools>=41.0.0, but you'll have setuptools 40.8.0 which is incompatible.\u001b[0m\n",
      "\u001b[31mkfp 0.1.20 has requirement kubernetes<=9.0.0,>=8.0.0, but you'll have kubernetes 10.0.0 which is incompatible.\u001b[0m\n",
      "Installing collected packages: oauthlib, requests-oauthlib, cachetools, pyasn1, pyasn1-modules, rsa, google-auth, urllib3, kubernetes, flatbuffers, opentracing, Flask-OpenTracing, grpcio, grpcio-opentracing, absl-py, h5py, keras-applications, termcolor, wrapt, tensorboard, keras-preprocessing, google-pasta, gast, tensorflow-estimator, astor, tensorflow, tornado, threadloop, jaeger-client, redis, flask-cors, seldon-core, googleapis-common-protos, google-api-core, google-cloud-core, google-resumable-media, google-cloud-storage, PyJWT, pycparser, cffi, asn1crypto, cryptography, requests-toolbelt, kfp-server-api, kfp\n",
      "  Found existing installation: urllib3 1.25.3\n",
      "    Uninstalling urllib3-1.25.3:\n",
      "      Successfully uninstalled urllib3-1.25.3\n",
      "  Found existing installation: tornado 6.0.3\n",
      "    Uninstalling tornado-6.0.3:\n",
      "      Successfully uninstalled tornado-6.0.3\n",
      "Successfully installed Flask-OpenTracing-0.2.0 PyJWT-1.7.1 absl-py-0.7.1 asn1crypto-0.24.0 astor-0.8.0 cachetools-3.1.1 cffi-1.12.3 cryptography-2.7 flask-cors-3.0.8 flatbuffers-1.11 gast-0.2.2 google-api-core-1.14.0 google-auth-1.6.3 google-cloud-core-1.0.2 google-cloud-storage-1.17.0 google-pasta-0.1.7 google-resumable-media-0.3.2 googleapis-common-protos-1.6.0 grpcio-1.22.0 grpcio-opentracing-1.1.4 h5py-2.9.0 jaeger-client-3.13.0 keras-applications-1.0.8 keras-preprocessing-1.1.0 kfp-0.1.20 kfp-server-api-0.1.18.3 kubernetes-10.0.0 oauthlib-3.0.2 opentracing-1.3.0 pyasn1-0.4.5 pyasn1-modules-0.2.5 pycparser-2.19 redis-3.2.1 requests-oauthlib-1.2.0 requests-toolbelt-0.9.1 rsa-4.0 seldon-core-0.3.1 tensorboard-1.14.0 tensorflow-1.14.0 tensorflow-estimator-1.14.0 termcolor-1.1.0 threadloop-1.0.2 tornado-4.5.3 urllib3-1.24.3 wrapt-1.11.2\n"
     ]
    }
   ],
   "source": [
    "!pip3 install -r ./requirements-dev.txt"
   ]
  },
  {
   "cell_type": "code",
   "execution_count": 5,
   "metadata": {},
   "outputs": [
    {
     "name": "stdout",
     "output_type": "stream",
     "text": [
      "/bin/sh: kfctl: command not found\n",
      "ls: kubeflow-seldon: No such file or directory\n"
     ]
    }
   ],
   "source": [
    "!kfctl init kubeflow-seldon\n",
    "!ls kubeflow-seldon"
   ]
  },
  {
   "cell_type": "code",
   "execution_count": null,
   "metadata": {},
   "outputs": [],
   "source": []
  }
 ],
 "metadata": {
  "kernelspec": {
   "display_name": "Python 3",
   "language": "python",
   "name": "python3"
  },
  "language_info": {
   "codemirror_mode": {
    "name": "ipython",
    "version": 3
   },
   "file_extension": ".py",
   "mimetype": "text/x-python",
   "name": "python",
   "nbconvert_exporter": "python",
   "pygments_lexer": "ipython3",
   "version": "3.7.3"
  }
 },
 "nbformat": 4,
 "nbformat_minor": 2
}
